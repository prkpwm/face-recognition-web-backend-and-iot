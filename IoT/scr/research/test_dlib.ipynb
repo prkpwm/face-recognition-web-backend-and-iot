{
 "cells": [
  {
   "cell_type": "code",
   "execution_count": 25,
   "metadata": {},
   "outputs": [],
   "source": [
    "import dlib\n",
    "import cv2\n",
    "import os\n",
    "import numpy as np"
   ]
  },
  {
   "cell_type": "code",
   "execution_count": 26,
   "metadata": {},
   "outputs": [
    {
     "name": "stdout",
     "output_type": "stream",
     "text": [
      "(1278, 958, 3)\n"
     ]
    }
   ],
   "source": [
    "#img = cv2.imread('image/test1.jpeg')\n",
    "img = dlib.load_rgb_image('image/test1.jpeg')\n",
    "print(img.shape)"
   ]
  },
  {
   "cell_type": "code",
   "execution_count": 27,
   "metadata": {},
   "outputs": [
    {
     "name": "stdout",
     "output_type": "stream",
     "text": [
      "dept:  [(225, 463) (760, 998)]\n",
      "len:  1\n"
     ]
    }
   ],
   "source": [
    "detector = dlib.get_frontal_face_detector()\n",
    "dept = detector(img,0)\n",
    "print('dept: ',dept[0])\n",
    "print('len: ',len(dept))"
   ]
  },
  {
   "cell_type": "code",
   "execution_count": 36,
   "metadata": {},
   "outputs": [],
   "source": [
    "predictor_path = os.path.join(os.getcwd(),'model','face_landmarks68.dat')\n",
    "face_rec_path = os.path.join(os.getcwd(),'model','mmod_human_face_detector.dat')"
   ]
  },
  {
   "cell_type": "code",
   "execution_count": 37,
   "metadata": {},
   "outputs": [],
   "source": [
    "sp = dlib.shape_predictor(predictor_path) # หาองค์ประกอบของใบหน้า\n",
    "shape = sp(img,dept[0])"
   ]
  },
  {
   "cell_type": "code",
   "execution_count": 38,
   "metadata": {},
   "outputs": [
    {
     "name": "stdout",
     "output_type": "stream",
     "text": [
      "<_dlib_pybind11.full_object_detection object at 0x7f371b90d8>\n"
     ]
    }
   ],
   "source": [
    "print(shape)"
   ]
  },
  {
   "cell_type": "code",
   "execution_count": 39,
   "metadata": {},
   "outputs": [],
   "source": [
    "facerec = dlib.cnn_face_detection_model_v1(face_rec_path)"
   ]
  },
  {
   "cell_type": "code",
   "execution_count": 40,
   "metadata": {},
   "outputs": [
    {
     "ename": "AttributeError",
     "evalue": "'_dlib_pybind11.cnn_face_detection_model_v1' object has no attribute 'compute_face_descriptor'",
     "output_type": "error",
     "traceback": [
      "\u001b[0;31m---------------------------------------------------------------------------\u001b[0m",
      "\u001b[0;31mAttributeError\u001b[0m                            Traceback (most recent call last)",
      "\u001b[0;32m<ipython-input-40-16ea22cfa477>\u001b[0m in \u001b[0;36m<module>\u001b[0;34m\u001b[0m\n\u001b[0;32m----> 1\u001b[0;31m \u001b[0mface_descriptor\u001b[0m \u001b[0;34m=\u001b[0m \u001b[0;34m[\u001b[0m\u001b[0mi\u001b[0m \u001b[0;32mfor\u001b[0m \u001b[0mi\u001b[0m \u001b[0;32min\u001b[0m \u001b[0mfacerec\u001b[0m\u001b[0;34m.\u001b[0m\u001b[0mcompute_face_descriptor\u001b[0m\u001b[0;34m(\u001b[0m\u001b[0mimg\u001b[0m\u001b[0;34m,\u001b[0m \u001b[0mshape\u001b[0m\u001b[0;34m)\u001b[0m\u001b[0;34m]\u001b[0m \u001b[0;31m# หา 128 จุด\u001b[0m\u001b[0;34m\u001b[0m\u001b[0;34m\u001b[0m\u001b[0m\n\u001b[0m",
      "\u001b[0;31mAttributeError\u001b[0m: '_dlib_pybind11.cnn_face_detection_model_v1' object has no attribute 'compute_face_descriptor'"
     ]
    }
   ],
   "source": [
    "face_descriptor = [i for i in facerec.compute_face_descriptor(img, shape)] # หา 128 จุด"
   ]
  },
  {
   "cell_type": "code",
   "execution_count": 12,
   "metadata": {},
   "outputs": [
    {
     "data": {
      "text/plain": [
       "128"
      ]
     },
     "execution_count": 12,
     "metadata": {},
     "output_type": "execute_result"
    }
   ],
   "source": [
    "len(face_descriptor)"
   ]
  },
  {
   "cell_type": "code",
   "execution_count": 16,
   "metadata": {},
   "outputs": [
    {
     "data": {
      "text/plain": [
       "array([[[168, 188, 193],\n",
       "        [168, 188, 193],\n",
       "        [167, 187, 192],\n",
       "        ...,\n",
       "        [135, 156, 158],\n",
       "        [152, 173, 174],\n",
       "        [150, 171, 172]],\n",
       "\n",
       "       [[168, 188, 193],\n",
       "        [168, 188, 193],\n",
       "        [167, 187, 192],\n",
       "        ...,\n",
       "        [150, 171, 173],\n",
       "        [160, 181, 182],\n",
       "        [153, 174, 175]],\n",
       "\n",
       "       [[168, 188, 193],\n",
       "        [168, 188, 193],\n",
       "        [167, 187, 192],\n",
       "        ...,\n",
       "        [163, 184, 186],\n",
       "        [163, 184, 185],\n",
       "        [157, 178, 179]],\n",
       "\n",
       "       ...,\n",
       "\n",
       "       [[ 36,  31,  30],\n",
       "        [ 35,  30,  29],\n",
       "        [ 40,  35,  34],\n",
       "        ...,\n",
       "        [ 32,  26,  27],\n",
       "        [ 37,  31,  32],\n",
       "        [ 42,  36,  37]],\n",
       "\n",
       "       [[ 39,  34,  33],\n",
       "        [ 35,  30,  29],\n",
       "        [ 38,  33,  32],\n",
       "        ...,\n",
       "        [ 31,  25,  26],\n",
       "        [ 34,  28,  29],\n",
       "        [ 37,  31,  32]],\n",
       "\n",
       "       [[ 39,  34,  33],\n",
       "        [ 37,  32,  31],\n",
       "        [ 39,  34,  33],\n",
       "        ...,\n",
       "        [ 34,  28,  29],\n",
       "        [ 35,  29,  30],\n",
       "        [ 34,  28,  29]]], dtype=uint8)"
      ]
     },
     "execution_count": 16,
     "metadata": {},
     "output_type": "execute_result"
    }
   ],
   "source": [
    "cv2.rectangle(img,(dept[0].left(),dept[0].top()),(dept[0].right(),dept[0].bottom()),(0,0,255),1)"
   ]
  },
  {
   "cell_type": "code",
   "execution_count": 17,
   "metadata": {},
   "outputs": [
    {
     "data": {
      "text/plain": [
       "True"
      ]
     },
     "execution_count": 17,
     "metadata": {},
     "output_type": "execute_result"
    }
   ],
   "source": [
    "cv2.imwrite('test.jpg',img)"
   ]
  },
  {
   "cell_type": "code",
   "execution_count": null,
   "metadata": {},
   "outputs": [],
   "source": [
    "# video"
   ]
  }
 ],
 "metadata": {
  "kernelspec": {
   "display_name": "Python 3",
   "language": "python",
   "name": "python3"
  },
  "language_info": {
   "codemirror_mode": {
    "name": "ipython",
    "version": 3
   },
   "file_extension": ".py",
   "mimetype": "text/x-python",
   "name": "python",
   "nbconvert_exporter": "python",
   "pygments_lexer": "ipython3",
   "version": "3.6.9"
  }
 },
 "nbformat": 4,
 "nbformat_minor": 4
}
