{
 "cells": [
  {
   "cell_type": "code",
   "execution_count": 3,
   "metadata": {},
   "outputs": [],
   "source": [
    "import requests\n",
    "res = requests.get('http://ipinfo.io/')\n",
    "data_point = res.json()"
   ]
  },
  {
   "cell_type": "code",
   "execution_count": 4,
   "metadata": {},
   "outputs": [
    {
     "name": "stdout",
     "output_type": "stream",
     "text": [
      "{'ip': '171.98.105.54', 'hostname': 'cm-171-98-105-54.revip7.asianet.co.th', 'city': 'Bangkok', 'region': 'Bangkok', 'country': 'TH', 'loc': '13.7540,100.5014', 'org': 'AS17552 True Online', 'postal': '10100', 'timezone': 'Asia/Bangkok', 'readme': 'https://ipinfo.io/missingauth'}\n"
     ]
    }
   ],
   "source": [
    "print(data_point)"
   ]
  },
  {
   "cell_type": "code",
   "execution_count": 4,
   "metadata": {},
   "outputs": [],
   "source": [
    "split_point = data_point['loc'].split(',')"
   ]
  },
  {
   "cell_type": "code",
   "execution_count": 5,
   "metadata": {},
   "outputs": [
    {
     "data": {
      "text/plain": [
       "['13.7540', '100.5014']"
      ]
     },
     "execution_count": 5,
     "metadata": {},
     "output_type": "execute_result"
    }
   ],
   "source": [
    "split_point"
   ]
  },
  {
   "cell_type": "code",
   "execution_count": 6,
   "metadata": {},
   "outputs": [],
   "source": [
    "# pm 2.5\n",
    "import requests, json\n",
    "url3 = \"http://air4thai.pcd.go.th/services/getNewAQI_JSON.php\"\n",
    "r3 = requests.get(url3)\n",
    "temp_data = dict(r3.json())"
   ]
  },
  {
   "cell_type": "code",
   "execution_count": 7,
   "metadata": {},
   "outputs": [
    {
     "data": {
      "text/plain": [
       "{'stationID': '02t',\n",
       " 'nameTH': 'มหาวิทยาลัยราชภัฏบ้านสมเด็จเจ้าพระยา',\n",
       " 'nameEN': 'Bansomdejchaopraya Rajabhat University',\n",
       " 'areaTH': 'แขวงหิรัญรูจี เขตธนบุรี, กรุงเทพฯ',\n",
       " 'areaEN': 'Hiran Ruchi, Khet Thon Buri, Bangkok',\n",
       " 'stationType': 'GROUND',\n",
       " 'lat': '13.732994',\n",
       " 'long': '100.488239',\n",
       " 'forecast': [],\n",
       " 'LastUpdate': {'date': '2020-12-30',\n",
       "  'time': '17:00',\n",
       "  'PM25': {'value': '45', 'unit': 'µg/m³'},\n",
       "  'PM10': {'value': '70', 'unit': 'µg/m³'},\n",
       "  'O3': {'value': '7', 'unit': 'ppb'},\n",
       "  'CO': {'value': '-', 'unit': 'ppm'},\n",
       "  'NO2': {'value': '-', 'unit': 'ppb'},\n",
       "  'SO2': {'value': '-', 'unit': 'ppb'},\n",
       "  'AQI': {'Level': '3', 'aqi': '80'}}}"
      ]
     },
     "execution_count": 7,
     "metadata": {},
     "output_type": "execute_result"
    }
   ],
   "source": [
    "temp_data['stations'][0]"
   ]
  },
  {
   "cell_type": "code",
   "execution_count": 8,
   "metadata": {},
   "outputs": [
    {
     "data": {
      "text/plain": [
       "'2020-12-30'"
      ]
     },
     "execution_count": 8,
     "metadata": {},
     "output_type": "execute_result"
    }
   ],
   "source": [
    "temp_data['stations'][0]['LastUpdate']['date']"
   ]
  },
  {
   "cell_type": "code",
   "execution_count": 9,
   "metadata": {},
   "outputs": [
    {
     "name": "stdout",
     "output_type": "stream",
     "text": [
      "45\n"
     ]
    }
   ],
   "source": [
    "import math\n",
    "import numpy as np\n",
    "\n",
    "keep_distance = list()\n",
    "for data in temp_data['stations']:\n",
    "    split_your_point = data_point['loc'].split(',')\n",
    "    distance = math.sqrt(((float(split_your_point[0])-float(data['lat']))**2)+((float(split_your_point[1])-float(data['long']))**2))\n",
    "    keep_distance.append(distance)\n",
    "\n",
    "arr_distance = np.array(keep_distance)\n",
    "min_distance_index = np.argmin(arr_distance)\n",
    "print(temp_data['stations'][min_distance_index]['LastUpdate']['PM25']['value'])"
   ]
  },
  {
   "cell_type": "code",
   "execution_count": 10,
   "metadata": {},
   "outputs": [],
   "source": [
    "# check temperator\n",
    "# url = 'api.openweathermap.org/data/2.5/weather?q={Bangkok}'\n",
    "# temp = requests.get(url)\n",
    "# print(temp)\n",
    "import requests\n",
    "r = requests.get('https://data.tmd.go.th/api/Weather3Hours/V1/')\n",
    "res = r.json()"
   ]
  },
  {
   "cell_type": "code",
   "execution_count": 11,
   "metadata": {},
   "outputs": [
    {
     "data": {
      "text/plain": [
       "{'WmoNumber': '48300',\n",
       " 'StationNameTh': 'แม่ฮ่องสอน',\n",
       " 'StationNameEng': 'MAE HONG SON',\n",
       " 'Province': 'แม่ฮ่องสอน',\n",
       " 'Latitude': {'Value': '19.298972', 'Unit': 'decimal degree'},\n",
       " 'Longitude': {'Value': '97.975778', 'Unit': 'decimal degree'},\n",
       " 'Observe': {'Time': '21/12/2020 10:00:00',\n",
       "  'Temperature': {'Value': 22.8, 'Unit': 'celcius'},\n",
       "  'StationPressure': {'Value': 985.6, 'Unit': 'hPa'},\n",
       "  'MeanSeaLevelPressure': {'Value': 1017.1, 'Unit': 'hPa'},\n",
       "  'DewPoint': {'Value': 16.9, 'Unit': 'celcius'},\n",
       "  'RelativeHumidity': {'Value': 70.0, 'Unit': '%'},\n",
       "  'VaporPressure': {'Value': 19.3, 'Unit': 'hPa'},\n",
       "  'LandVisibility': {'Value': 12.0, 'Unit': 'km'},\n",
       "  'WindDirection': {'Value': '000', 'Unit': 'degree'},\n",
       "  'WindSpeed': {'Value': 0.0, 'Unit': 'km/h'},\n",
       "  'Rainfall': {'Value': 0.0, 'Unit': 'mm'},\n",
       "  'TotolCloud': 'ท้องฟ้าแจ่มใส'}}"
      ]
     },
     "execution_count": 11,
     "metadata": {},
     "output_type": "execute_result"
    }
   ],
   "source": [
    "res['Stations'][0]"
   ]
  },
  {
   "cell_type": "code",
   "execution_count": 12,
   "metadata": {},
   "outputs": [],
   "source": [
    "import pandas as pd"
   ]
  },
  {
   "cell_type": "code",
   "execution_count": 14,
   "metadata": {},
   "outputs": [],
   "source": [
    "csv = pd.read_csv('romanized_province.csv', encoding= 'unicode_escape')"
   ]
  },
  {
   "cell_type": "code",
   "execution_count": 15,
   "metadata": {},
   "outputs": [
    {
     "name": "stdout",
     "output_type": "stream",
     "text": [
      "['BANGKOK', 'KRABI', 'KANCHANABURI', 'KALASIN', 'KAMPHAENG PHET', 'KHON KAEN', 'CHANTHABURI', 'CHACHOENGSAO', 'CHON BURI', 'CHAI NAT', 'CHAIYAPHUM', 'CHUMPHON', 'CHIANG RAI', 'CHIANG MAI', 'TRANG', 'TRAT', 'TAK', 'NAKHON NAYOK', 'NAKHON PATHOM', 'NAKHON PHANOM', 'NAKHON RATCHASIMA', 'NAKHON SI THAMMARAT', 'NAKHON SAWAN', 'NONTHABURI', 'NARATHIWAT', 'NAN', 'BUENG KAN', 'BURI RAM', 'PATHUM THANI', 'PRACHUAP KHIRI KHAN', 'PRACHIN BURI', 'PATTANI', 'PHRA NAKHON SI AYUTTHAYA', 'PHAYAO', 'PHANGNGA', 'PHATTHALUNG', 'PHICHIT', 'PHITSANULOK', 'PHETCHABURI', 'PHETCHABUN', 'PHRAE', 'PHUKET', 'MAHA SARAKHAM', 'MUKDAHAN', 'MAE HONG SON', 'YASOTHON', 'YALA', 'ROI ET', 'RANONG', 'RAYONG', 'RATCHABURI', 'LOP BURI', 'LAMPANG', 'LAMPHUN', 'LOEI', 'SI SA KET', 'SAKON NAKHON', 'SONGKHLA', 'SATUN', 'SAMUT PRAKAN', 'SAMUT SONGKHRAM', 'SAMUT SAKHON', 'SA KAEO', 'SARABURI', 'SING BURI', 'SUKHOTHAI', 'SUPHAN BURI', 'SURAT THANI', 'SURIN', 'NONG KHAI', 'NONG BUA LAM PHU', 'ANG THONG', 'AMNAT CHAROEN', 'UDON THANI', 'UTTARADIT', 'UTHAI THANI', 'UBON RATCHATHANI']\n"
     ]
    }
   ],
   "source": [
    "province_list = list()\n",
    "for province in csv['romanized_province']:\n",
    "    province_list.append(province)\n",
    "\n",
    "province_list[0] = 'BANGKOK'\n",
    "print(province_list)"
   ]
  },
  {
   "cell_type": "code",
   "execution_count": 16,
   "metadata": {},
   "outputs": [],
   "source": [
    "provice_thai = ['กรุงเทพมหานคร','กระบี่','กาญจนบุรี',  'กาฬสินธุ์',  'กำแพงเพชร',  'ขอนแก่น',  'จันทบุรี',  'ฉะเชิงเทรา',\n",
    "                            'ชลบุรี',  'ชัยนาท',  'ชัยภูมิ',  'ชุมพร',  'เชียงราย',  'เชียงใหม่',  'ตรัง',  'ตราด',  'ตาก',  'นครนายก',  'นครปฐม',  'นครพนม',\n",
    "                            'นครราชสีมา',  'นครศรีธรรมราช',  'นครสวรรค์',  'นนทบุรี',  'นราธิวาส',  'น่าน',  'บึงกาฬ',  'บุรีรัมย์',  'ปทุมธานี',  'ประจวบคีรีขันธ์',\n",
    "                            'ปราจีนบุรี',  'ปัตตานี',  'พะเยา',  'พระนครศรีอยุธยา',  'พังงา',  'พัทลุง',  'พิจิตร',  'พิษณุโลก',  'เพชรบุรี',  'เพชรบูรณ์',  'แพร่',\n",
    "                            'ภูเก็ต',  'มหาสารคาม',  'มุกดาหาร',  'แม่ฮ่องสอน',  'ยโสธร',  'ยะลา',  'ร้อยเอ็ด',  'ระนอง',  'ระยอง',  'ราชบุรี',  'ลพบุรี',  'ลำปาง',\n",
    "                            'ลำพูน',  'เลย',  'ศรีสะเกษ',  'สกลนคร',  'สงขลา',  'สตูล',  'สมุทรปราการ',  'สมุทรสงคราม',  'สมุทรสาคร',  'สระแก้ว',  'สระบุรี',  'สิงห์บุรี',\n",
    "                            'สุโขทัย',  'สุพรรณบุรี',  'สุราษฎร์ธานี',  'สุรินทร์',  'หนองคาย',  'หนองบัวลำภู',  'อ่างทอง',  'อำนาจเจริญ',  'อุดรธานี',  'อุตรดิตถ์',  'อุทัยธานี',\n",
    "                            'อุบลราชธานี']"
   ]
  },
  {
   "cell_type": "code",
   "execution_count": 17,
   "metadata": {},
   "outputs": [],
   "source": [
    "# find index of thai province\n",
    "index = provice_thai.index('กรุงเทพมหานคร')"
   ]
  },
  {
   "cell_type": "code",
   "execution_count": 18,
   "metadata": {},
   "outputs": [
    {
     "data": {
      "text/plain": [
       "{'WmoNumber': '48300',\n",
       " 'StationNameTh': 'แม่ฮ่องสอน',\n",
       " 'StationNameEng': 'MAE HONG SON',\n",
       " 'Province': 'แม่ฮ่องสอน',\n",
       " 'Latitude': {'Value': '19.298972', 'Unit': 'decimal degree'},\n",
       " 'Longitude': {'Value': '97.975778', 'Unit': 'decimal degree'},\n",
       " 'Observe': {'Time': '21/12/2020 10:00:00',\n",
       "  'Temperature': {'Value': 22.8, 'Unit': 'celcius'},\n",
       "  'StationPressure': {'Value': 985.6, 'Unit': 'hPa'},\n",
       "  'MeanSeaLevelPressure': {'Value': 1017.1, 'Unit': 'hPa'},\n",
       "  'DewPoint': {'Value': 16.9, 'Unit': 'celcius'},\n",
       "  'RelativeHumidity': {'Value': 70.0, 'Unit': '%'},\n",
       "  'VaporPressure': {'Value': 19.3, 'Unit': 'hPa'},\n",
       "  'LandVisibility': {'Value': 12.0, 'Unit': 'km'},\n",
       "  'WindDirection': {'Value': '000', 'Unit': 'degree'},\n",
       "  'WindSpeed': {'Value': 0.0, 'Unit': 'km/h'},\n",
       "  'Rainfall': {'Value': 0.0, 'Unit': 'mm'},\n",
       "  'TotolCloud': 'ท้องฟ้าแจ่มใส'}}"
      ]
     },
     "execution_count": 18,
     "metadata": {},
     "output_type": "execute_result"
    }
   ],
   "source": [
    "# example\n",
    "res['Stations'][0]"
   ]
  },
  {
   "cell_type": "code",
   "execution_count": 20,
   "metadata": {},
   "outputs": [
    {
     "name": "stdout",
     "output_type": "stream",
     "text": [
      "BANGKOK\n",
      "city: กรุงเทพมหานคร\n",
      "มีเมฆบางส่วน\n"
     ]
    }
   ],
   "source": [
    "# find weather\n",
    "temp = ''\n",
    "print(data_point['city'].upper())\n",
    "city_index = province_list.index(data_point['city'].upper())\n",
    "# print(city_index)\n",
    "city_name = provice_thai[city_index]\n",
    "print('city:',city_name)\n",
    "for province in res['Stations']:\n",
    "    if province['Province'] == city_name:\n",
    "        temp = province['Observe']['TotolCloud']\n",
    "\n",
    "print(temp)\n",
    "        "
   ]
  },
  {
   "cell_type": "code",
   "execution_count": 6,
   "metadata": {},
   "outputs": [],
   "source": [
    "# translate th to en\n",
    "from google_trans_new import google_translator  \n",
    "translator = google_translator()\n",
    "\n",
    "def translate_th2en(string):\n",
    "    translate_text = translator.translate(string,lang_tgt='en')  \n",
    "    return translate_text"
   ]
  }
 ],
 "metadata": {
  "kernelspec": {
   "display_name": "Python 3",
   "language": "python",
   "name": "python3"
  },
  "language_info": {
   "codemirror_mode": {
    "name": "ipython",
    "version": 3
   },
   "file_extension": ".py",
   "mimetype": "text/x-python",
   "name": "python",
   "nbconvert_exporter": "python",
   "pygments_lexer": "ipython3",
   "version": "3.7.9"
  }
 },
 "nbformat": 4,
 "nbformat_minor": 4
}
